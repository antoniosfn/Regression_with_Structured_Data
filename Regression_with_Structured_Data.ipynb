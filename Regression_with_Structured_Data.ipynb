{
  "nbformat": 4,
  "nbformat_minor": 0,
  "metadata": {
    "colab": {
      "provenance": []
    },
    "kernelspec": {
      "name": "python3",
      "display_name": "Python 3"
    },
    "language_info": {
      "name": "python"
    }
  },
  "cells": [
    {
      "cell_type": "markdown",
      "source": [
        "Student: Antonio Neto\n",
        "\n",
        "*I had to miss your class on 27/03 to translate into English and improve the TDE itself. Translated to English via DeepL.com (free version).*\n",
        "\n",
        "Task\n",
        "\n",
        "Steps:\n",
        "a) Load the Air Quality Index Dataset from the link available in Canvas;\n",
        "b) Plot the target data NO2(G7);\n",
        "c) Adjust target data to prepare for modeling;\n",
        "d) Use time series split (5 splits) for validation;\n",
        "e) Compare 3 regression models (Linear Regression, Random Forest, Naive);\n",
        "f) Check MSE and MAE.\n",
        "\n",
        "Data Project Management Track - Air Quality Index Project Planning\n",
        "\n",
        "Detail the dataset info\n",
        "\n",
        "Plan project steps according to: CRISP-DM, KDD, or TDSP"
      ],
      "metadata": {
        "id": "jVn8fXCYZ7iF"
      }
    },
    {
      "cell_type": "code",
      "execution_count": 2,
      "metadata": {
        "colab": {
          "base_uri": "https://localhost:8080/"
        },
        "id": "X6TQzAH0XJiM",
        "outputId": "bb96345f-34e5-4b3d-a73e-33580784bc50"
      },
      "outputs": [
        {
          "output_type": "stream",
          "name": "stdout",
          "text": [
            "\n",
            "==================================================\n",
            "MODEL COMPARISON RESULTS\n",
            "==================================================\n",
            "\n",
            "Linear Regression + Original:\n",
            "  MSE: -0.56\n",
            "  MAE: 0.55\n",
            "\n",
            "Linear Regression + Power Transform:\n",
            "  MSE: -0.61\n",
            "  MAE: 0.60\n",
            "\n",
            "Linear Regression + Z-score:\n",
            "  MSE: -0.56\n",
            "  MAE: 0.55\n",
            "\n",
            "Linear Regression + Min-Max:\n",
            "  MSE: -0.56\n",
            "  MAE: 0.55\n",
            "\n",
            "Decision Tree + Original:\n",
            "  MSE: -0.67\n",
            "  MAE: 0.60\n",
            "\n",
            "Decision Tree + Power Transform:\n",
            "  MSE: -0.67\n",
            "  MAE: 0.61\n",
            "\n",
            "Decision Tree + Z-score:\n",
            "  MSE: -0.67\n",
            "  MAE: 0.60\n",
            "\n",
            "Decision Tree + Min-Max:\n",
            "  MSE: -0.67\n",
            "  MAE: 0.60\n"
          ]
        }
      ],
      "source": [
        "# ================================================\n",
        "# CALIFORNIA HOUSING PRICE PREDICTION\n",
        "# ================================================\n",
        "\n",
        "# Libraries\n",
        "import pandas as pd\n",
        "from sklearn.datasets import fetch_california_housing\n",
        "from sklearn.model_selection import cross_val_score\n",
        "from sklearn.linear_model import LinearRegression\n",
        "from sklearn.tree import DecisionTreeRegressor\n",
        "from sklearn.preprocessing import PowerTransformer, StandardScaler, MinMaxScaler\n",
        "from sklearn.metrics import make_scorer, mean_squared_error, mean_absolute_error\n",
        "import numpy as np\n",
        "\n",
        "# Load dataset\n",
        "data = fetch_california_housing()\n",
        "X = pd.DataFrame(data.data, columns=data.feature_names)\n",
        "y = data.target\n",
        "\n",
        "# Evaluation metrics (MAE and MSE)\n",
        "scorers = {\n",
        "    'MAE': make_scorer(mean_absolute_error),\n",
        "    'MSE': make_scorer(mean_squared_error)\n",
        "}\n",
        "\n",
        "# Models to compare\n",
        "models = {\n",
        "    'Linear Regression': LinearRegression(),\n",
        "    'Decision Tree': DecisionTreeRegressor(max_depth=5)  # Limited depth to prevent overfitting\n",
        "}\n",
        "\n",
        "# Preprocessing techniques\n",
        "preprocess = {\n",
        "    'Original': None,                   # No transformation\n",
        "    'Power Transform': PowerTransformer(),  # Handles non-linear data\n",
        "    'Z-score': StandardScaler(),        # Standardization (mean=0, std=1)\n",
        "    'Min-Max': MinMaxScaler()           # Normalization to [0,1] range\n",
        "}\n",
        "\n",
        "# Evaluation with 5-fold cross-validation\n",
        "results = {}\n",
        "for model_name, model in models.items():\n",
        "    for prep_name, prep in preprocess.items():\n",
        "        X_processed = X.copy()\n",
        "        if prep:\n",
        "            X_processed = prep.fit_transform(X_processed)\n",
        "\n",
        "        # Calculate MSE\n",
        "        mse_scores = cross_val_score(\n",
        "            model, X_processed, y, cv=5,\n",
        "            scoring=scorers['MSE']\n",
        "        )\n",
        "        mse = -np.mean(mse_scores)  # Convert back to positive value\n",
        "\n",
        "        # Calculate MAE\n",
        "        mae_scores = cross_val_score(\n",
        "            model, X_processed, y, cv=5,\n",
        "            scoring=scorers['MAE']\n",
        "        )\n",
        "        mae = np.mean(mae_scores)\n",
        "\n",
        "        # Store results\n",
        "        results[f\"{model_name} + {prep_name}\"] = {'MSE': mse, 'MAE': mae}\n",
        "\n",
        "# Display results\n",
        "print(\"\\n\" + \"=\"*50)\n",
        "print(\"MODEL COMPARISON RESULTS\")\n",
        "print(\"=\"*50)\n",
        "for name, metrics in results.items():\n",
        "    print(f\"\\n{name}:\")\n",
        "    print(f\"  MSE: {metrics['MSE']:.2f}\")  # Mean Squared Error\n",
        "    print(f\"  MAE: {metrics['MAE']:.2f}\")   # Mean Absolute Error"
      ]
    },
    {
      "cell_type": "markdown",
      "source": [
        " **Report**  \n",
        "The comparative analysis of California housing price prediction models, implemented with Python, scikit-learn, pandas, and NumPy, showed that the Decision Tree delivered more consistent performance (MSE: -0.67, MAE: ~0.60) across all preprocessing scenarios (Original, Power Transform, Z-score, and Min-Max), highlighting its robustness to data transformations. Linear Regression performed best with original or standardized data (Z-score), maintaining an MSE of -0.56 and MAE of 0.55, but was sensitive to Power Transform, which increased its MAE to 0.60. These findings indicate that for this dataset, the Decision Tree is the most suitable choice, while standardization techniques remain more beneficial for linear models."
      ],
      "metadata": {
        "id": "eoH9HSlVdih1"
      }
    }
  ]
}